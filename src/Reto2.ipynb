{
  "cells": [
    {
      "cell_type": "code",
      "execution_count": null,
      "metadata": {
        "colab": {
          "base_uri": "https://localhost:8080/"
        },
        "id": "oZXyiQKPf1Rg",
        "outputId": "fdb55b69-f0a1-461e-bf0d-bea7fed56604"
      },
      "outputs": [],
      "source": [
        "print(df_poblacion.head())\n",
        "\n",
        "\n",
        "print(df_poblacion.info())\n",
        "print(df_poblacion.describe())"
      ]
    },
    {
      "cell_type": "code",
      "execution_count": null,
      "metadata": {
        "colab": {
          "base_uri": "https://localhost:8080/"
        },
        "id": "BAN7CVDynjeG",
        "outputId": "34f38cdc-95c0-4aef-ffaf-616bdfc98dea"
      },
      "outputs": [],
      "source": [
        "df_poblacion_agrupado = df_poblacion.groupby('Departamento')['Poblacion'].sum().reset_index()\n",
        "\n",
        "\n",
        "print(df_poblacion_agrupado.head())"
      ]
    },
    {
      "cell_type": "code",
      "execution_count": null,
      "metadata": {
        "colab": {
          "base_uri": "https://localhost:8080/",
          "height": 206
        },
        "id": "x1EwCDAwgoXO",
        "outputId": "3fb7ca75-deda-4299-d078-f71d693a0cb3"
      },
      "outputs": [],
      "source": [
        "negocios_por_departamento.head()"
      ]
    },
    {
      "cell_type": "code",
      "execution_count": null,
      "metadata": {
        "id": "x2cZheVEgu_5"
      },
      "outputs": [],
      "source": [
        "negocios_por_departamento['Departamento'] = negocios_por_departamento['Departamento'].astype(str)"
      ]
    },
    {
      "cell_type": "code",
      "execution_count": null,
      "metadata": {
        "colab": {
          "base_uri": "https://localhost:8080/"
        },
        "id": "FgCr5Cg6kC9O",
        "outputId": "b8ed1e83-a5a3-403b-b14f-3de54805f23e"
      },
      "outputs": [],
      "source": [
        "negocios_por_departamento.info()"
      ]
    },
    {
      "cell_type": "code",
      "execution_count": null,
      "metadata": {
        "colab": {
          "base_uri": "https://localhost:8080/"
        },
        "id": "UpnM1ZQ_lVJu",
        "outputId": "641e3f16-43b1-4a79-b688-fcf1abd82484"
      },
      "outputs": [],
      "source": [
        "df_poblacion_agrupado.info()"
      ]
    },
    {
      "cell_type": "code",
      "execution_count": null,
      "metadata": {
        "colab": {
          "base_uri": "https://localhost:8080/"
        },
        "id": "m-e1JUfkBNrA",
        "outputId": "c4fda0bd-9ba2-4a7f-837a-a4ee88152b62"
      },
      "outputs": [],
      "source": [
        "\n",
        "\n",
        "def normalize_text(text):\n",
        "    text = unicodedata.normalize('NFKD', text).encode('ASCII', 'ignore').decode('utf-8')\n",
        "    return text.lower()\n",
        "\n",
        "\n",
        "df_poblacion_agrupado['Departamento'] = df_poblacion_agrupado['Departamento'].apply(normalize_text)\n",
        "negocios_por_departamento['Departamento'] = negocios_por_departamento['Departamento'].apply(normalize_text)\n",
        "\n",
        "\n",
        "negocios_por_departamento['Departamento'] = negocios_por_departamento['Departamento'].replace(\n",
        "    'archipielago de san andres, providencia y santa catalina',\n",
        "    'archipielago de san andres-providencia y santa catalina'\n",
        ")\n",
        "\n",
        "\n",
        "df_poblacion_agrupado = df_poblacion_agrupado.rename(columns={'Poblacion': 'Total_Poblacion'})\n",
        "\n",
        "df_final = pd.merge(negocios_por_departamento, df_poblacion_agrupado, on='Departamento', how='left')\n",
        "\n",
        "df_final['Negocios_Verdes_Per_Capita'] = df_final['Total_Negocios_Verdes'] / df_final['Total_Poblacion']\n",
        "\n",
        "print(df_final[['Departamento', 'Total_Negocios_Verdes', 'Total_Poblacion', 'Negocios_Verdes_Per_Capita']])"
      ]
    },
    {
      "cell_type": "code",
      "execution_count": null,
      "metadata": {
        "colab": {
          "base_uri": "https://localhost:8080/"
        },
        "id": "ptp5UAtCFKZ9",
        "outputId": "9433dc52-654c-4ea7-b306-8343ea293412"
      },
      "outputs": [],
      "source": [
        "print(df_negocios_2018.describe(include='all'))\n",
        "\n",
        "# Distribución de los negocios verdes por departamento\n",
        "negocios_por_departamento = df_negocios_2018['DEPARTAMENTO'].value_counts()\n",
        "print(negocios_por_departamento)\n",
        "\n",
        "\n",
        "\n",
        "\n",
        "\n",
        "\n"
      ]
    },
    {
      "cell_type": "code",
      "execution_count": null,
      "metadata": {
        "colab": {
          "base_uri": "https://localhost:8080/"
        },
        "id": "GkeTNHzpIQgC",
        "outputId": "a056b0a0-790c-44ed-cf42-6feaf30b169d"
      },
      "outputs": [],
      "source": [
        "# Distribución de los negocios verdes por categoría\n",
        "negocios_por_categoria = df_negocios_2018['CATEGORÍA'].value_counts()\n",
        "print(negocios_por_categoria)"
      ]
    },
    {
      "cell_type": "code",
      "execution_count": null,
      "metadata": {
        "colab": {
          "base_uri": "https://localhost:8080/"
        },
        "id": "xt5Ek6ddIUP5",
        "outputId": "b1b6aa79-cdf6-4d4c-e24f-45ad18b5fa34"
      },
      "outputs": [],
      "source": [
        "# Distribución de los negocios verdes por sector\n",
        "negocios_por_sector = df_negocios_2018['SECTOR'].value_counts()\n",
        "print(negocios_por_sector)"
      ]
    },
    {
      "cell_type": "code",
      "execution_count": null,
      "metadata": {
        "colab": {
          "base_uri": "https://localhost:8080/"
        },
        "id": "k63X66lVIYRq",
        "outputId": "44219bb3-6a1a-457e-9e6c-77ae33a147a5"
      },
      "outputs": [],
      "source": [
        "# Departamentos con más y menos negocios verdes\n",
        "top_departamentos = negocios_por_departamento.head(10)\n",
        "bottom_departamentos = negocios_por_departamento.tail(10)\n",
        "print(top_departamentos)\n",
        "print(bottom_departamentos)\n"
      ]
    },
    {
      "cell_type": "code",
      "execution_count": null,
      "metadata": {
        "colab": {
          "base_uri": "https://localhost:8080/"
        },
        "id": "puKuyPuXIeie",
        "outputId": "443dd13f-2f8c-47ab-97e5-7db43e3b55ed"
      },
      "outputs": [],
      "source": [
        "# Categorías y sectores más comunes\n",
        "top_categorias = negocios_por_categoria.head(10)\n",
        "top_sectores = negocios_por_sector.head(10)\n",
        "print(top_categorias)\n",
        "print(top_sectores)"
      ]
    },
    {
      "cell_type": "code",
      "execution_count": null,
      "metadata": {
        "colab": {
          "base_uri": "https://localhost:8080/"
        },
        "id": "Q2SoveuvLReO",
        "outputId": "9c376ba0-7052-4285-d09b-85259e6c8663"
      },
      "outputs": [],
      "source": [
        "print(df_final.head())\n"
      ]
    },
    {
      "cell_type": "code",
      "execution_count": null,
      "metadata": {
        "colab": {
          "base_uri": "https://localhost:8080/",
          "height": 1000
        },
        "id": "pcxGCLWuFOn3",
        "outputId": "4bc20648-c1c9-4106-ca0b-1e3115e572df"
      },
      "outputs": [],
      "source": [
        "print(df_final.head())\n",
        "\n",
        "# Asegurarse de que 'Total_Negocios_Verdes' y 'Departamento' existen y están en el formato correcto\n",
        "assert 'Total_Negocios_Verdes' in df_final.columns, \"La columna 'Total_Negocios_Verdes' no está en df_final\"\n",
        "assert 'Departamento' in df_final.columns, \"La columna 'Departamento' no está en df_final\"\n",
        "\n",
        "# Crear el gráfico de barras para la distribución de negocios por departamento\n",
        "plt.figure(figsize=(12, 8))\n",
        "sns.barplot(x=df_final['Departamento'], y=df_final['Total_Negocios_Verdes'], palette='viridis')\n",
        "plt.xticks(rotation=90)\n",
        "plt.title('Distribución de Negocios Verdes por Departamento (2018)')\n",
        "plt.xlabel('Departamento')\n",
        "plt.ylabel('Número de Negocios Verdes')\n",
        "plt.show()\n",
        "# Gráficos de pastel para la distribución por categorías\n",
        "plt.figure(figsize=(8, 8))\n",
        "plt.pie(negocios_por_categoria.values, labels=negocios_por_categoria.index, autopct='%1.1f%%', colors=sns.color_palette('viridis'))\n",
        "plt.title('Distribución de Negocios Verdes por Categoría')\n",
        "plt.show()\n",
        "\n",
        "# Gráficos de pastel para la distribución por sectores\n",
        "plt.figure(figsize=(8, 8))\n",
        "plt.pie(negocios_por_sector.values, labels=negocios_por_sector.index, autopct='%1.1f%%', colors=sns.color_palette('viridis'))\n",
        "plt.title('Distribución de Negocios Verdes por Sector')\n",
        "plt.show()\n"
      ]
    },
    {
      "cell_type": "code",
      "execution_count": null,
      "metadata": {
        "colab": {
          "base_uri": "https://localhost:8080/",
          "height": 718
        },
        "id": "g0Du24i4NXBQ",
        "outputId": "b62a9063-6978-4179-a4ac-94090fadb634"
      },
      "outputs": [],
      "source": [
        "negocios_por_año = df_negocios['AÑO'].value_counts().sort_index()\n",
        "\n",
        "# Crear el gráfico de línea para la cantidad de negocios verdes por año\n",
        "plt.figure(figsize=(12, 8))\n",
        "sns.lineplot(x=negocios_por_año.index, y=negocios_por_año.values, marker='o', linestyle='-')\n",
        "plt.title('Tendencia de Negocios Verdes por Año')\n",
        "plt.xlabel('Año')\n",
        "plt.ylabel('Número de Negocios Verdes')\n",
        "plt.xticks(negocios_por_año.index)\n",
        "plt.grid(True)\n",
        "plt.show()"
      ]
    }
  ],
  "metadata": {
    "colab": {
      "provenance": []
    },
    "kernelspec": {
      "display_name": "Python 3",
      "name": "python3"
    },
    "language_info": {
      "name": "python"
    }
  },
  "nbformat": 4,
  "nbformat_minor": 0
}
